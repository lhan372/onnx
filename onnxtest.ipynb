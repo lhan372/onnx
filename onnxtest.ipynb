{
 "cells": [
  {
   "cell_type": "code",
   "execution_count": 1,
   "metadata": {},
   "outputs": [
    {
     "name": "stdout",
     "output_type": "stream",
     "text": [
      "Note: you may need to restart the kernel to use updated packages.\n"
     ]
    },
    {
     "name": "stderr",
     "output_type": "stream",
     "text": [
      "\n",
      "Usage:   \n",
      "  C:\\anaconda3\\python.exe -m pip install [options] <requirement specifier> [package-index-options] ...\n",
      "  C:\\anaconda3\\python.exe -m pip install [options] -r <requirements file> [package-index-options] ...\n",
      "  C:\\anaconda3\\python.exe -m pip install [options] [-e] <vcs project url> ...\n",
      "  C:\\anaconda3\\python.exe -m pip install [options] [-e] <local project path> ...\n",
      "  C:\\anaconda3\\python.exe -m pip install [options] <archive url/path> ...\n",
      "\n",
      "no such option: -u\n"
     ]
    }
   ],
   "source": [
    "pip install -upgrade pip"
   ]
  },
  {
   "cell_type": "code",
   "execution_count": 2,
   "metadata": {},
   "outputs": [
    {
     "name": "stdout",
     "output_type": "stream",
     "text": [
      "Requirement already up-to-date: numpy in c:\\anaconda3\\lib\\site-packages (1.21.1)\n",
      "Note: you may need to restart the kernel to use updated packages.\n"
     ]
    }
   ],
   "source": [
    "pip install numpy --upgrade"
   ]
  },
  {
   "cell_type": "code",
   "execution_count": 3,
   "metadata": {},
   "outputs": [
    {
     "name": "stdout",
     "output_type": "stream",
     "text": [
      "Requirement already satisfied: onnxruntime in c:\\anaconda3\\lib\\site-packages (1.8.1)\n",
      "Requirement already satisfied: numpy>=1.16.6 in c:\\anaconda3\\lib\\site-packages (from onnxruntime) (1.21.1)\n",
      "Requirement already satisfied: protobuf in c:\\anaconda3\\lib\\site-packages (from onnxruntime) (3.17.3)\n",
      "Requirement already satisfied: flatbuffers in c:\\anaconda3\\lib\\site-packages (from onnxruntime) (2.0)\n",
      "Requirement already satisfied: six>=1.9 in c:\\anaconda3\\lib\\site-packages (from protobuf->onnxruntime) (1.12.0)\n",
      "Note: you may need to restart the kernel to use updated packages.\n"
     ]
    }
   ],
   "source": [
    "pip install onnxruntime"
   ]
  },
  {
   "cell_type": "code",
   "execution_count": 4,
   "metadata": {},
   "outputs": [
    {
     "name": "stdout",
     "output_type": "stream",
     "text": [
      "Requirement already satisfied: skl2onnx in c:\\anaconda3\\lib\\site-packages (1.9.1103)\n",
      "Requirement already satisfied: scipy>=1.0 in c:\\anaconda3\\lib\\site-packages (from skl2onnx) (1.3.1)\n",
      "Requirement already satisfied: protobuf in c:\\anaconda3\\lib\\site-packages (from skl2onnx) (3.17.3)\n",
      "Requirement already satisfied: onnxconverter-common>=1.6.1 in c:\\anaconda3\\lib\\site-packages (from skl2onnx) (1.8.1)\n",
      "Requirement already satisfied: numpy>=1.15 in c:\\anaconda3\\lib\\site-packages (from skl2onnx) (1.21.1)\n",
      "Requirement already satisfied: scikit-learn>=0.19 in c:\\anaconda3\\lib\\site-packages (from skl2onnx) (0.21.3)\n",
      "Requirement already satisfied: onnx>=1.2.1 in c:\\anaconda3\\lib\\site-packages (from skl2onnx) (1.10.1)\n",
      "Requirement already satisfied: six>=1.9 in c:\\anaconda3\\lib\\site-packages (from protobuf->skl2onnx) (1.12.0)\n",
      "Requirement already satisfied: joblib>=0.11 in c:\\anaconda3\\lib\\site-packages (from scikit-learn>=0.19->skl2onnx) (0.13.2)\n",
      "Requirement already satisfied: typing-extensions>=3.6.2.1 in c:\\anaconda3\\lib\\site-packages (from onnx>=1.2.1->skl2onnx) (3.10.0.0)\n",
      "Note: you may need to restart the kernel to use updated packages.\n"
     ]
    }
   ],
   "source": [
    "pip install skl2onnx"
   ]
  },
  {
   "cell_type": "code",
   "execution_count": 5,
   "metadata": {},
   "outputs": [
    {
     "name": "stdout",
     "output_type": "stream",
     "text": [
      "Requirement already satisfied: pyquicksetup in c:\\anaconda3\\lib\\site-packages (0.2)\n",
      "Requirement already satisfied: setuptools in c:\\anaconda3\\lib\\site-packages (from pyquicksetup) (41.4.0)\n",
      "Note: you may need to restart the kernel to use updated packages.\n"
     ]
    }
   ],
   "source": [
    "pip install pyquicksetup"
   ]
  },
  {
   "cell_type": "code",
   "execution_count": 6,
   "metadata": {},
   "outputs": [
    {
     "name": "stdout",
     "output_type": "stream",
     "text": [
      "Collecting mlprodict[all]\n",
      "  Using cached https://files.pythonhosted.org/packages/a2/32/ea7d9ecc0445a2bbc7badb4e9076324ff5e9fa88da91370cb76cd47d3c22/mlprodict-0.6.1522.tar.gz\n",
      "Note: you may need to restart the kernel to use updated packages.\n"
     ]
    },
    {
     "name": "stderr",
     "output_type": "stream",
     "text": [
      "    ERROR: Command errored out with exit status 1:\n",
      "     command: 'C:\\anaconda3\\python.exe' -c 'import sys, setuptools, tokenize; sys.argv[0] = '\"'\"'C:\\\\Users\\\\nizhe\\\\AppData\\\\Local\\\\Temp\\\\pip-install-7iohpcqk\\\\mlprodict\\\\setup.py'\"'\"'; __file__='\"'\"'C:\\\\Users\\\\nizhe\\\\AppData\\\\Local\\\\Temp\\\\pip-install-7iohpcqk\\\\mlprodict\\\\setup.py'\"'\"';f=getattr(tokenize, '\"'\"'open'\"'\"', open)(__file__);code=f.read().replace('\"'\"'\\r\\n'\"'\"', '\"'\"'\\n'\"'\"');f.close();exec(compile(code, __file__, '\"'\"'exec'\"'\"'))' egg_info --egg-base pip-egg-info\n",
      "         cwd: C:\\Users\\nizhe\\AppData\\Local\\Temp\\pip-install-7iohpcqk\\mlprodict\\\n",
      "    Complete output (13 lines):\n",
      "    Traceback (most recent call last):\n",
      "      File \"<string>\", line 1, in <module>\n",
      "      File \"C:\\Users\\nizhe\\AppData\\Local\\Temp\\pip-install-7iohpcqk\\mlprodict\\setup.py\", line 356, in <module>\n",
      "        ext_modules = get_extensions()\n",
      "      File \"C:\\Users\\nizhe\\AppData\\Local\\Temp\\pip-install-7iohpcqk\\mlprodict\\setup.py\", line 333, in get_extensions\n",
      "        cy_ext_blas = cythonize(cython_ext, compiler_directives=opts)\n",
      "      File \"C:\\anaconda3\\lib\\site-packages\\Cython\\Build\\Dependencies.py\", line 966, in cythonize\n",
      "        aliases=aliases)\n",
      "      File \"C:\\anaconda3\\lib\\site-packages\\Cython\\Build\\Dependencies.py\", line 810, in create_extension_list\n",
      "        for file in nonempty(sorted(extended_iglob(filepattern)), \"'%s' doesn't match any files\" % filepattern):\n",
      "      File \"C:\\anaconda3\\lib\\site-packages\\Cython\\Build\\Dependencies.py\", line 109, in nonempty\n",
      "        raise ValueError(error_msg)\n",
      "    ValueError: 'mlprodict/testing/einsum/direct_blas_lapack.pyx' doesn't match any files\n",
      "    ----------------------------------------\n",
      "ERROR: Command errored out with exit status 1: python setup.py egg_info Check the logs for full command output.\n"
     ]
    }
   ],
   "source": [
    "pip install mlprodict[all]"
   ]
  },
  {
   "cell_type": "code",
   "execution_count": 7,
   "metadata": {},
   "outputs": [
    {
     "name": "stdout",
     "output_type": "stream",
     "text": [
      "Collecting mlprodict\n",
      "  Using cached https://files.pythonhosted.org/packages/a2/32/ea7d9ecc0445a2bbc7badb4e9076324ff5e9fa88da91370cb76cd47d3c22/mlprodict-0.6.1522.tar.gz\n",
      "Note: you may need to restart the kernel to use updated packages.\n"
     ]
    },
    {
     "name": "stderr",
     "output_type": "stream",
     "text": [
      "    ERROR: Command errored out with exit status 1:\n",
      "     command: 'C:\\anaconda3\\python.exe' -c 'import sys, setuptools, tokenize; sys.argv[0] = '\"'\"'C:\\\\Users\\\\nizhe\\\\AppData\\\\Local\\\\Temp\\\\pip-install-lnjkajjs\\\\mlprodict\\\\setup.py'\"'\"'; __file__='\"'\"'C:\\\\Users\\\\nizhe\\\\AppData\\\\Local\\\\Temp\\\\pip-install-lnjkajjs\\\\mlprodict\\\\setup.py'\"'\"';f=getattr(tokenize, '\"'\"'open'\"'\"', open)(__file__);code=f.read().replace('\"'\"'\\r\\n'\"'\"', '\"'\"'\\n'\"'\"');f.close();exec(compile(code, __file__, '\"'\"'exec'\"'\"'))' egg_info --egg-base pip-egg-info\n",
      "         cwd: C:\\Users\\nizhe\\AppData\\Local\\Temp\\pip-install-lnjkajjs\\mlprodict\\\n",
      "    Complete output (13 lines):\n",
      "    Traceback (most recent call last):\n",
      "      File \"<string>\", line 1, in <module>\n",
      "      File \"C:\\Users\\nizhe\\AppData\\Local\\Temp\\pip-install-lnjkajjs\\mlprodict\\setup.py\", line 356, in <module>\n",
      "        ext_modules = get_extensions()\n",
      "      File \"C:\\Users\\nizhe\\AppData\\Local\\Temp\\pip-install-lnjkajjs\\mlprodict\\setup.py\", line 333, in get_extensions\n",
      "        cy_ext_blas = cythonize(cython_ext, compiler_directives=opts)\n",
      "      File \"C:\\anaconda3\\lib\\site-packages\\Cython\\Build\\Dependencies.py\", line 966, in cythonize\n",
      "        aliases=aliases)\n",
      "      File \"C:\\anaconda3\\lib\\site-packages\\Cython\\Build\\Dependencies.py\", line 810, in create_extension_list\n",
      "        for file in nonempty(sorted(extended_iglob(filepattern)), \"'%s' doesn't match any files\" % filepattern):\n",
      "      File \"C:\\anaconda3\\lib\\site-packages\\Cython\\Build\\Dependencies.py\", line 109, in nonempty\n",
      "        raise ValueError(error_msg)\n",
      "    ValueError: 'mlprodict/testing/einsum/direct_blas_lapack.pyx' doesn't match any files\n",
      "    ----------------------------------------\n",
      "ERROR: Command errored out with exit status 1: python setup.py egg_info Check the logs for full command output.\n"
     ]
    }
   ],
   "source": [
    "pip install mlprodict"
   ]
  },
  {
   "cell_type": "code",
   "execution_count": 8,
   "metadata": {},
   "outputs": [
    {
     "name": "stdout",
     "output_type": "stream",
     "text": [
      "Collecting git+https://github.com/xadupre/sklearn-onnx.git@jenkins\n",
      "  Cloning https://github.com/xadupre/sklearn-onnx.git (to revision jenkins) to c:\\users\\nizhe\\appdata\\local\\temp\\pip-req-build-x_kx3vb7\n",
      "Requirement already satisfied (use --upgrade to upgrade): skl2onnx==1.9.1103 from git+https://github.com/xadupre/sklearn-onnx.git@jenkins in c:\\anaconda3\\lib\\site-packages\n",
      "Requirement already satisfied: numpy>=1.15 in c:\\anaconda3\\lib\\site-packages (from skl2onnx==1.9.1103) (1.21.1)\n",
      "Requirement already satisfied: scipy>=1.0 in c:\\anaconda3\\lib\\site-packages (from skl2onnx==1.9.1103) (1.3.1)\n",
      "Requirement already satisfied: protobuf in c:\\anaconda3\\lib\\site-packages (from skl2onnx==1.9.1103) (3.17.3)\n",
      "Requirement already satisfied: onnx>=1.2.1 in c:\\anaconda3\\lib\\site-packages (from skl2onnx==1.9.1103) (1.10.1)\n",
      "Requirement already satisfied: scikit-learn>=0.19 in c:\\anaconda3\\lib\\site-packages (from skl2onnx==1.9.1103) (0.21.3)\n",
      "Requirement already satisfied: onnxconverter-common>=1.6.1 in c:\\anaconda3\\lib\\site-packages (from skl2onnx==1.9.1103) (1.8.1)\n",
      "Requirement already satisfied: six>=1.9 in c:\\anaconda3\\lib\\site-packages (from protobuf->skl2onnx==1.9.1103) (1.12.0)\n",
      "Requirement already satisfied: typing-extensions>=3.6.2.1 in c:\\anaconda3\\lib\\site-packages (from onnx>=1.2.1->skl2onnx==1.9.1103) (3.10.0.0)\n",
      "Requirement already satisfied: joblib>=0.11 in c:\\anaconda3\\lib\\site-packages (from scikit-learn>=0.19->skl2onnx==1.9.1103) (0.13.2)\n",
      "Building wheels for collected packages: skl2onnx\n",
      "  Building wheel for skl2onnx (setup.py): started\n",
      "  Building wheel for skl2onnx (setup.py): finished with status 'done'\n",
      "  Created wheel for skl2onnx: filename=skl2onnx-1.9.1103-py2.py3-none-any.whl size=242533 sha256=89b9cf965c2f183eb05347b1e1cb800a06b135d6ac57f6a2bff42df5460acb98\n",
      "  Stored in directory: C:\\Users\\nizhe\\AppData\\Local\\Temp\\pip-ephem-wheel-cache-8_93w4gk\\wheels\\ef\\51\\e0\\224aa2e32ab95faf5f4a23693d90c157e6a4dd7c24753c7cf3\n",
      "Successfully built skl2onnx\n",
      "Note: you may need to restart the kernel to use updated packages.\n"
     ]
    },
    {
     "name": "stderr",
     "output_type": "stream",
     "text": [
      "  Running command git clone -q https://github.com/xadupre/sklearn-onnx.git 'C:\\Users\\nizhe\\AppData\\Local\\Temp\\pip-req-build-x_kx3vb7'\n",
      "  Running command git checkout -b jenkins --track origin/jenkins\n",
      "  Branch 'jenkins' set up to track remote branch 'jenkins' from 'origin'.\n",
      "  Switched to a new branch 'jenkins'\n"
     ]
    }
   ],
   "source": [
    "pip install git+https://github.com/xadupre/sklearn-onnx.git@jenkins"
   ]
  },
  {
   "cell_type": "code",
   "execution_count": 9,
   "metadata": {},
   "outputs": [
    {
     "name": "stderr",
     "output_type": "stream",
     "text": [
      "C:\\anaconda3\\lib\\site-packages\\sklearn\\linear_model\\least_angle.py:30: DeprecationWarning: `np.float` is a deprecated alias for the builtin `float`. To silence this warning, use `float` by itself. Doing this will not modify any behavior and is safe. If you specifically wanted the numpy scalar type, use `np.float64` here.\n",
      "Deprecated in NumPy 1.20; for more details and guidance: https://numpy.org/devdocs/release/1.20.0-notes.html#deprecations\n",
      "  method='lar', copy_X=True, eps=np.finfo(np.float).eps,\n",
      "C:\\anaconda3\\lib\\site-packages\\sklearn\\linear_model\\least_angle.py:167: DeprecationWarning: `np.float` is a deprecated alias for the builtin `float`. To silence this warning, use `float` by itself. Doing this will not modify any behavior and is safe. If you specifically wanted the numpy scalar type, use `np.float64` here.\n",
      "Deprecated in NumPy 1.20; for more details and guidance: https://numpy.org/devdocs/release/1.20.0-notes.html#deprecations\n",
      "  method='lar', copy_X=True, eps=np.finfo(np.float).eps,\n",
      "C:\\anaconda3\\lib\\site-packages\\sklearn\\linear_model\\least_angle.py:284: DeprecationWarning: `np.float` is a deprecated alias for the builtin `float`. To silence this warning, use `float` by itself. Doing this will not modify any behavior and is safe. If you specifically wanted the numpy scalar type, use `np.float64` here.\n",
      "Deprecated in NumPy 1.20; for more details and guidance: https://numpy.org/devdocs/release/1.20.0-notes.html#deprecations\n",
      "  eps=np.finfo(np.float).eps, copy_Gram=True, verbose=0,\n",
      "C:\\anaconda3\\lib\\site-packages\\sklearn\\linear_model\\least_angle.py:862: DeprecationWarning: `np.float` is a deprecated alias for the builtin `float`. To silence this warning, use `float` by itself. Doing this will not modify any behavior and is safe. If you specifically wanted the numpy scalar type, use `np.float64` here.\n",
      "Deprecated in NumPy 1.20; for more details and guidance: https://numpy.org/devdocs/release/1.20.0-notes.html#deprecations\n",
      "  eps=np.finfo(np.float).eps, copy_X=True, fit_path=True,\n",
      "C:\\anaconda3\\lib\\site-packages\\sklearn\\linear_model\\least_angle.py:1101: DeprecationWarning: `np.float` is a deprecated alias for the builtin `float`. To silence this warning, use `float` by itself. Doing this will not modify any behavior and is safe. If you specifically wanted the numpy scalar type, use `np.float64` here.\n",
      "Deprecated in NumPy 1.20; for more details and guidance: https://numpy.org/devdocs/release/1.20.0-notes.html#deprecations\n",
      "  eps=np.finfo(np.float).eps, copy_X=True, fit_path=True,\n",
      "C:\\anaconda3\\lib\\site-packages\\sklearn\\linear_model\\least_angle.py:1127: DeprecationWarning: `np.float` is a deprecated alias for the builtin `float`. To silence this warning, use `float` by itself. Doing this will not modify any behavior and is safe. If you specifically wanted the numpy scalar type, use `np.float64` here.\n",
      "Deprecated in NumPy 1.20; for more details and guidance: https://numpy.org/devdocs/release/1.20.0-notes.html#deprecations\n",
      "  eps=np.finfo(np.float).eps, positive=False):\n",
      "C:\\anaconda3\\lib\\site-packages\\sklearn\\linear_model\\least_angle.py:1362: DeprecationWarning: `np.float` is a deprecated alias for the builtin `float`. To silence this warning, use `float` by itself. Doing this will not modify any behavior and is safe. If you specifically wanted the numpy scalar type, use `np.float64` here.\n",
      "Deprecated in NumPy 1.20; for more details and guidance: https://numpy.org/devdocs/release/1.20.0-notes.html#deprecations\n",
      "  max_n_alphas=1000, n_jobs=None, eps=np.finfo(np.float).eps,\n",
      "C:\\anaconda3\\lib\\site-packages\\sklearn\\linear_model\\least_angle.py:1602: DeprecationWarning: `np.float` is a deprecated alias for the builtin `float`. To silence this warning, use `float` by itself. Doing this will not modify any behavior and is safe. If you specifically wanted the numpy scalar type, use `np.float64` here.\n",
      "Deprecated in NumPy 1.20; for more details and guidance: https://numpy.org/devdocs/release/1.20.0-notes.html#deprecations\n",
      "  max_n_alphas=1000, n_jobs=None, eps=np.finfo(np.float).eps,\n",
      "C:\\anaconda3\\lib\\site-packages\\sklearn\\linear_model\\least_angle.py:1738: DeprecationWarning: `np.float` is a deprecated alias for the builtin `float`. To silence this warning, use `float` by itself. Doing this will not modify any behavior and is safe. If you specifically wanted the numpy scalar type, use `np.float64` here.\n",
      "Deprecated in NumPy 1.20; for more details and guidance: https://numpy.org/devdocs/release/1.20.0-notes.html#deprecations\n",
      "  eps=np.finfo(np.float).eps, copy_X=True, positive=False):\n",
      "C:\\anaconda3\\lib\\site-packages\\sklearn\\decomposition\\online_lda.py:29: DeprecationWarning: `np.float` is a deprecated alias for the builtin `float`. To silence this warning, use `float` by itself. Doing this will not modify any behavior and is safe. If you specifically wanted the numpy scalar type, use `np.float64` here.\n",
      "Deprecated in NumPy 1.20; for more details and guidance: https://numpy.org/devdocs/release/1.20.0-notes.html#deprecations\n",
      "  EPS = np.finfo(np.float).eps\n",
      "C:\\anaconda3\\lib\\site-packages\\sklearn\\ensemble\\gradient_boosting.py:32: DeprecationWarning: `np.bool` is a deprecated alias for the builtin `bool`. To silence this warning, use `bool` by itself. Doing this will not modify any behavior and is safe. If you specifically wanted the numpy scalar type, use `np.bool_` here.\n",
      "Deprecated in NumPy 1.20; for more details and guidance: https://numpy.org/devdocs/release/1.20.0-notes.html#deprecations\n",
      "  from ._gradient_boosting import predict_stages\n",
      "C:\\anaconda3\\lib\\site-packages\\sklearn\\ensemble\\gradient_boosting.py:32: DeprecationWarning: `np.bool` is a deprecated alias for the builtin `bool`. To silence this warning, use `bool` by itself. Doing this will not modify any behavior and is safe. If you specifically wanted the numpy scalar type, use `np.bool_` here.\n",
      "Deprecated in NumPy 1.20; for more details and guidance: https://numpy.org/devdocs/release/1.20.0-notes.html#deprecations\n",
      "  from ._gradient_boosting import predict_stages\n",
      "C:\\anaconda3\\lib\\site-packages\\sklearn\\feature_extraction\\image.py:167: DeprecationWarning: `np.int` is a deprecated alias for the builtin `int`. To silence this warning, use `int` by itself. Doing this will not modify any behavior and is safe. When replacing `np.int`, you may wish to use e.g. `np.int64` or `np.int32` to specify the precision. If you wish to review your current use, check the release note link for additional information.\n",
      "Deprecated in NumPy 1.20; for more details and guidance: https://numpy.org/devdocs/release/1.20.0-notes.html#deprecations\n",
      "  dtype=np.int):\n"
     ]
    }
   ],
   "source": [
    "import skl2onnx\n",
    "import numpy\n",
    "from onnxruntime import InferenceSession\n",
    "from sklearn.datasets import load_diabetes\n",
    "from sklearn.ensemble import (\n",
    "    GradientBoostingRegressor, RandomForestRegressor,\n",
    "    VotingRegressor)\n",
    "from sklearn.linear_model import LinearRegression\n",
    "from sklearn.model_selection import train_test_split\n",
    "from sklearn.pipeline import Pipeline\n",
    "from skl2onnx import to_onnx\n"
   ]
  },
  {
   "cell_type": "code",
   "execution_count": 10,
   "metadata": {},
   "outputs": [
    {
     "name": "stdout",
     "output_type": "stream",
     "text": [
      "Requirement already satisfied: kaggle in c:\\anaconda3\\lib\\site-packages (1.5.12)\n",
      "Requirement already satisfied: python-dateutil in c:\\anaconda3\\lib\\site-packages (from kaggle) (2.8.0)\n",
      "Requirement already satisfied: tqdm in c:\\anaconda3\\lib\\site-packages (from kaggle) (4.36.1)\n",
      "Requirement already satisfied: certifi in c:\\anaconda3\\lib\\site-packages (from kaggle) (2019.9.11)\n",
      "Requirement already satisfied: requests in c:\\anaconda3\\lib\\site-packages (from kaggle) (2.22.0)\n",
      "Requirement already satisfied: six>=1.10 in c:\\anaconda3\\lib\\site-packages (from kaggle) (1.12.0)\n",
      "Requirement already satisfied: python-slugify in c:\\anaconda3\\lib\\site-packages (from kaggle) (5.0.2)\n",
      "Requirement already satisfied: urllib3 in c:\\anaconda3\\lib\\site-packages (from kaggle) (1.24.2)\n",
      "Requirement already satisfied: chardet<3.1.0,>=3.0.2 in c:\\anaconda3\\lib\\site-packages (from requests->kaggle) (3.0.4)\n",
      "Requirement already satisfied: idna<2.9,>=2.5 in c:\\anaconda3\\lib\\site-packages (from requests->kaggle) (2.8)\n",
      "Requirement already satisfied: text-unidecode>=1.3 in c:\\anaconda3\\lib\\site-packages (from python-slugify->kaggle) (1.3)\n"
     ]
    }
   ],
   "source": [
    "!pip install kaggle"
   ]
  },
  {
   "cell_type": "code",
   "execution_count": 11,
   "metadata": {},
   "outputs": [],
   "source": [
    "from kaggle.api.kaggle_api_extended import KaggleApi\n",
    "api = KaggleApi()\n",
    "api.authenticate()"
   ]
  },
  {
   "cell_type": "code",
   "execution_count": 18,
   "metadata": {},
   "outputs": [],
   "source": [
    "api.competition_download_files('titanic', path='./')"
   ]
  },
  {
   "cell_type": "code",
   "execution_count": 22,
   "metadata": {},
   "outputs": [],
   "source": [
    "from zipfile import ZipFile\n",
    "zf = ZipFile('titanic.zip')\n",
    "zf.extractall() \n",
    "zf.close()"
   ]
  },
  {
   "cell_type": "code",
   "execution_count": 23,
   "metadata": {},
   "outputs": [],
   "source": [
    "import pandas as pd\n",
    "data=pd.read_csv('train.csv')"
   ]
  },
  {
   "cell_type": "code",
   "execution_count": 24,
   "metadata": {},
   "outputs": [
    {
     "data": {
      "text/html": [
       "<div>\n",
       "<style scoped>\n",
       "    .dataframe tbody tr th:only-of-type {\n",
       "        vertical-align: middle;\n",
       "    }\n",
       "\n",
       "    .dataframe tbody tr th {\n",
       "        vertical-align: top;\n",
       "    }\n",
       "\n",
       "    .dataframe thead th {\n",
       "        text-align: right;\n",
       "    }\n",
       "</style>\n",
       "<table border=\"1\" class=\"dataframe\">\n",
       "  <thead>\n",
       "    <tr style=\"text-align: right;\">\n",
       "      <th></th>\n",
       "      <th>PassengerId</th>\n",
       "      <th>Survived</th>\n",
       "      <th>Pclass</th>\n",
       "      <th>Name</th>\n",
       "      <th>Sex</th>\n",
       "      <th>Age</th>\n",
       "      <th>SibSp</th>\n",
       "      <th>Parch</th>\n",
       "      <th>Ticket</th>\n",
       "      <th>Fare</th>\n",
       "      <th>Cabin</th>\n",
       "      <th>Embarked</th>\n",
       "    </tr>\n",
       "  </thead>\n",
       "  <tbody>\n",
       "    <tr>\n",
       "      <td>0</td>\n",
       "      <td>1</td>\n",
       "      <td>0</td>\n",
       "      <td>3</td>\n",
       "      <td>Braund, Mr. Owen Harris</td>\n",
       "      <td>male</td>\n",
       "      <td>22.0</td>\n",
       "      <td>1</td>\n",
       "      <td>0</td>\n",
       "      <td>A/5 21171</td>\n",
       "      <td>7.2500</td>\n",
       "      <td>NaN</td>\n",
       "      <td>S</td>\n",
       "    </tr>\n",
       "    <tr>\n",
       "      <td>1</td>\n",
       "      <td>2</td>\n",
       "      <td>1</td>\n",
       "      <td>1</td>\n",
       "      <td>Cumings, Mrs. John Bradley (Florence Briggs Th...</td>\n",
       "      <td>female</td>\n",
       "      <td>38.0</td>\n",
       "      <td>1</td>\n",
       "      <td>0</td>\n",
       "      <td>PC 17599</td>\n",
       "      <td>71.2833</td>\n",
       "      <td>C85</td>\n",
       "      <td>C</td>\n",
       "    </tr>\n",
       "    <tr>\n",
       "      <td>2</td>\n",
       "      <td>3</td>\n",
       "      <td>1</td>\n",
       "      <td>3</td>\n",
       "      <td>Heikkinen, Miss. Laina</td>\n",
       "      <td>female</td>\n",
       "      <td>26.0</td>\n",
       "      <td>0</td>\n",
       "      <td>0</td>\n",
       "      <td>STON/O2. 3101282</td>\n",
       "      <td>7.9250</td>\n",
       "      <td>NaN</td>\n",
       "      <td>S</td>\n",
       "    </tr>\n",
       "    <tr>\n",
       "      <td>3</td>\n",
       "      <td>4</td>\n",
       "      <td>1</td>\n",
       "      <td>1</td>\n",
       "      <td>Futrelle, Mrs. Jacques Heath (Lily May Peel)</td>\n",
       "      <td>female</td>\n",
       "      <td>35.0</td>\n",
       "      <td>1</td>\n",
       "      <td>0</td>\n",
       "      <td>113803</td>\n",
       "      <td>53.1000</td>\n",
       "      <td>C123</td>\n",
       "      <td>S</td>\n",
       "    </tr>\n",
       "    <tr>\n",
       "      <td>4</td>\n",
       "      <td>5</td>\n",
       "      <td>0</td>\n",
       "      <td>3</td>\n",
       "      <td>Allen, Mr. William Henry</td>\n",
       "      <td>male</td>\n",
       "      <td>35.0</td>\n",
       "      <td>0</td>\n",
       "      <td>0</td>\n",
       "      <td>373450</td>\n",
       "      <td>8.0500</td>\n",
       "      <td>NaN</td>\n",
       "      <td>S</td>\n",
       "    </tr>\n",
       "  </tbody>\n",
       "</table>\n",
       "</div>"
      ],
      "text/plain": [
       "   PassengerId  Survived  Pclass  \\\n",
       "0            1         0       3   \n",
       "1            2         1       1   \n",
       "2            3         1       3   \n",
       "3            4         1       1   \n",
       "4            5         0       3   \n",
       "\n",
       "                                                Name     Sex   Age  SibSp  \\\n",
       "0                            Braund, Mr. Owen Harris    male  22.0      1   \n",
       "1  Cumings, Mrs. John Bradley (Florence Briggs Th...  female  38.0      1   \n",
       "2                             Heikkinen, Miss. Laina  female  26.0      0   \n",
       "3       Futrelle, Mrs. Jacques Heath (Lily May Peel)  female  35.0      1   \n",
       "4                           Allen, Mr. William Henry    male  35.0      0   \n",
       "\n",
       "   Parch            Ticket     Fare Cabin Embarked  \n",
       "0      0         A/5 21171   7.2500   NaN        S  \n",
       "1      0          PC 17599  71.2833   C85        C  \n",
       "2      0  STON/O2. 3101282   7.9250   NaN        S  \n",
       "3      0            113803  53.1000  C123        S  \n",
       "4      0            373450   8.0500   NaN        S  "
      ]
     },
     "execution_count": 24,
     "metadata": {},
     "output_type": "execute_result"
    }
   ],
   "source": [
    "data.head()"
   ]
  }
 ],
 "metadata": {
  "kernelspec": {
   "display_name": "Python 3",
   "language": "python",
   "name": "python3"
  },
  "language_info": {
   "codemirror_mode": {
    "name": "ipython",
    "version": 3
   },
   "file_extension": ".py",
   "mimetype": "text/x-python",
   "name": "python",
   "nbconvert_exporter": "python",
   "pygments_lexer": "ipython3",
   "version": "3.7.4"
  }
 },
 "nbformat": 4,
 "nbformat_minor": 2
}
